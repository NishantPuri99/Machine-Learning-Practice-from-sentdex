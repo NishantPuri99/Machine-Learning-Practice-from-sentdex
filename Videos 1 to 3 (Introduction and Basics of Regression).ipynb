{
 "metadata": {
  "language_info": {
   "codemirror_mode": {
    "name": "ipython",
    "version": 3
   },
   "file_extension": ".py",
   "mimetype": "text/x-python",
   "name": "python",
   "nbconvert_exporter": "python",
   "pygments_lexer": "ipython3",
   "version": "3.7.4-final"
  },
  "orig_nbformat": 2,
  "kernelspec": {
   "name": "python38232bitd71e49e299224eb9bb1836ab652f0f01",
   "display_name": "Python 3.8.2 32-bit"
  }
 },
 "nbformat": 4,
 "nbformat_minor": 2,
 "cells": [
  {
   "source": [
    "## Video 1: Practical Machine Learning Tutorial with Python Intro"
   ],
   "cell_type": "markdown",
   "metadata": {}
  },
  {
   "cell_type": "code",
   "execution_count": 4,
   "metadata": {},
   "outputs": [
    {
     "output_type": "stream",
     "name": "stdout",
     "text": [
      "Here We Go!\n"
     ]
    }
   ],
   "source": [
    "\"\"\"\n",
    "Course Content:\n",
    "    1. Regression\n",
    "    2. Classification with KNN , SVM\n",
    "    3. Clustering with Flat Clustering and Heirarchical Clustering\n",
    "    4. Deep Learning with Neural Networks\n",
    "\n",
    "Each Algorithm has \n",
    "    1. Theory (High Level Intuition)\n",
    "    2. Application (Modules will be used on real-world data)\n",
    "    3. Inner Working of Algorithm (Recreating the algos from scratch)\n",
    "\n",
    "Pre-requisites:\n",
    "    1. Basics of Python3 (I'd prefer to do it from Sentdex)\n",
    "        https://www.youtube.com/playlist?list=PLQVvvaa0QuDe8XSftW-RAxdo6OmaeL85M\n",
    "    2. Basic Algebra (You can learn it along the way)\n",
    "\n",
    "A bit into the History of ML ( Do check out the video for this :) )...\n",
    "\n",
    "Machine Learning: Field of study where we give machines the ability to learn without being explicitly programmed to do so (Imbuing knowledge without hard-coding it)\n",
    "\"\"\"\n",
    "print(\"Here We Go!\")"
   ]
  },
  {
   "source": [
    "## Video 2: Regression Intro"
   ],
   "cell_type": "markdown",
   "metadata": {}
  },
  {
   "cell_type": "code",
   "execution_count": 6,
   "metadata": {},
   "outputs": [
    {
     "output_type": "stream",
     "name": "stdout",
     "text": [
      "Requirement already satisfied: sklearn in f:\\python374\\lib\\site-packages (0.0)\n",
      "Requirement already satisfied: scikit-learn in f:\\python374\\lib\\site-packages (from sklearn) (0.23.2)\n",
      "Requirement already satisfied: numpy>=1.13.3 in f:\\python374\\lib\\site-packages (from scikit-learn->sklearn) (1.18.5)\n",
      "Requirement already satisfied: scipy>=0.19.1 in f:\\python374\\lib\\site-packages (from scikit-learn->sklearn) (1.5.3)\n",
      "Requirement already satisfied: joblib>=0.11 in f:\\python374\\lib\\site-packages (from scikit-learn->sklearn) (0.17.0)\n",
      "Requirement already satisfied: threadpoolctl>=2.0.0 in f:\\python374\\lib\\site-packages (from scikit-learn->sklearn) (2.1.0)\n",
      "Requirement already satisfied: quandl in c:\\users\\nishant\\appdata\\roaming\\python\\python37\\site-packages (3.5.3)\n",
      "Requirement already satisfied: inflection>=0.3.1 in c:\\users\\nishant\\appdata\\roaming\\python\\python37\\site-packages (from quandl) (0.5.1)\n",
      "Requirement already satisfied: six in f:\\python374\\lib\\site-packages (from quandl) (1.15.0)\n",
      "Requirement already satisfied: more-itertools in c:\\users\\nishant\\appdata\\roaming\\python\\python37\\site-packages (from quandl) (8.6.0)\n",
      "Requirement already satisfied: requests>=2.7.0 in f:\\python374\\lib\\site-packages (from quandl) (2.24.0)\n",
      "Requirement already satisfied: python-dateutil in c:\\users\\nishant\\appdata\\roaming\\python\\python37\\site-packages (from quandl) (2.8.1)\n",
      "Requirement already satisfied: pandas>=0.14 in f:\\python374\\lib\\site-packages (from quandl) (1.1.4)\n",
      "Requirement already satisfied: numpy>=1.8 in f:\\python374\\lib\\site-packages (from quandl) (1.18.5)\n",
      "Requirement already satisfied: urllib3!=1.25.0,!=1.25.1,<1.26,>=1.21.1 in f:\\python374\\lib\\site-packages (from requests>=2.7.0->quandl) (1.25.11)\n",
      "Requirement already satisfied: chardet<4,>=3.0.2 in f:\\python374\\lib\\site-packages (from requests>=2.7.0->quandl) (3.0.4)\n",
      "Requirement already satisfied: certifi>=2017.4.17 in f:\\python374\\lib\\site-packages (from requests>=2.7.0->quandl) (2020.6.20)\n",
      "Requirement already satisfied: idna<3,>=2.5 in f:\\python374\\lib\\site-packages (from requests>=2.7.0->quandl) (2.10)\n",
      "Requirement already satisfied: pytz>=2017.2 in f:\\python374\\lib\\site-packages (from pandas>=0.14->quandl) (2020.4)\n",
      "Requirement already satisfied: pandas in f:\\python374\\lib\\site-packages (1.1.4)\n",
      "Requirement already satisfied: python-dateutil>=2.7.3 in c:\\users\\nishant\\appdata\\roaming\\python\\python37\\site-packages (from pandas) (2.8.1)\n",
      "Requirement already satisfied: pytz>=2017.2 in f:\\python374\\lib\\site-packages (from pandas) (2020.4)\n",
      "Requirement already satisfied: numpy>=1.15.4 in f:\\python374\\lib\\site-packages (from pandas) (1.18.5)\n",
      "Requirement already satisfied: six>=1.5 in f:\\python374\\lib\\site-packages (from python-dateutil>=2.7.3->pandas) (1.15.0)\n"
     ]
    }
   ],
   "source": [
    "\"\"\"\n",
    "Requirements:\n",
    "    1. sklearn\n",
    "    2. quandl\n",
    "    3. pandas\n",
    "\n",
    "(Execute this cell to install them)\n",
    "\"\"\"\n",
    "!pip install --user sklearn\n",
    "!pip install --user quandl\n",
    "!pip install --user pandas"
   ]
  },
  {
   "cell_type": "code",
   "execution_count": 7,
   "metadata": {},
   "outputs": [
    {
     "output_type": "stream",
     "name": "stdout",
     "text": [
      "And now we import some libraries\n"
     ]
    }
   ],
   "source": [
    "\"\"\"\n",
    "    Regression:\n",
    "    Idea: Take continuous data and figure out a best fit line to that data\n",
    "        We are basically modelling our data\n",
    "    in y = m*x + b\n",
    "    We need to figure out 'y' given 'x', 'm' and 'b'\n",
    "\n",
    "    'x' is something that we are already given and we generally need out computer to figure out        'y'.\n",
    "\n",
    "    The main aim of Regression here is to find out 'm' and 'b'\n",
    "    \n",
    "    Our Dataset: Stock Prices Dataset (Continuous Data)\n",
    "    \n",
    "    This is Supervised Learning (We have Features, and corressponding Labels)\n",
    "\n",
    "    We will learn more of what these terms mean as we go on with the course\n",
    "\"\"\"\n",
    "print(\"And now we import some libraries\")"
   ]
  },
  {
   "cell_type": "code",
   "execution_count": 10,
   "metadata": {},
   "outputs": [],
   "source": [
    "import pandas as pd\n",
    "import quandl"
   ]
  },
  {
   "cell_type": "code",
   "execution_count": 13,
   "metadata": {},
   "outputs": [],
   "source": [
    "df = quandl.get('WIKI/GOOGL') \n",
    "#Quandl is used to get our Dataset, check it out here: https://www.quandl.com/"
   ]
  },
  {
   "cell_type": "code",
   "execution_count": 15,
   "metadata": {},
   "outputs": [
    {
     "output_type": "stream",
     "name": "stdout",
     "text": [
      "              Open    High     Low    Close      Volume  Ex-Dividend  \\\nDate                                                                   \n2004-08-19  100.01  104.06   95.96  100.335  44659000.0          0.0   \n2004-08-20  101.01  109.08  100.50  108.310  22834300.0          0.0   \n2004-08-23  110.76  113.48  109.05  109.400  18256100.0          0.0   \n2004-08-24  111.24  111.60  103.57  104.870  15247300.0          0.0   \n2004-08-25  104.76  108.00  103.88  106.000   9188600.0          0.0   \n\n            Split Ratio  Adj. Open  Adj. High   Adj. Low  Adj. Close  \\\nDate                                                                   \n2004-08-19          1.0  50.159839  52.191109  48.128568   50.322842   \n2004-08-20          1.0  50.661387  54.708881  50.405597   54.322689   \n2004-08-23          1.0  55.551482  56.915693  54.693835   54.869377   \n2004-08-24          1.0  55.792225  55.972783  51.945350   52.597363   \n2004-08-25          1.0  52.542193  54.167209  52.100830   53.164113   \n\n            Adj. Volume  \nDate                     \n2004-08-19   44659000.0  \n2004-08-20   22834300.0  \n2004-08-23   18256100.0  \n2004-08-24   15247300.0  \n2004-08-25    9188600.0  \n"
     ]
    }
   ],
   "source": [
    "print(df.head()) # Each column here is a FEATURE\n",
    "\n",
    "# We tend to discover relationships between attributes as we move on with other algorithms so as to\n",
    "# use only those features which bring in some meaning ( This won't be use that extensively in\n",
    "# Regression though )"
   ]
  },
  {
   "cell_type": "code",
   "execution_count": 17,
   "metadata": {},
   "outputs": [],
   "source": [
    "df = df[['Adj. Open','Adj. High','Adj. Low','Adj. Close','Adj. Volume']] \n",
    "# We'll just use these Columns\n",
    "# Simple Linear Regression won't seek out any relationships\n",
    "df['HL_PCT'] = (df['Adj. High'] - df['Adj. Close'])/df['Adj. Close']*100.0\n",
    "df['PCT_change'] = (df['Adj. Close'] - df['Adj. Open'])/df['Adj. Open']*100.0"
   ]
  },
  {
   "cell_type": "code",
   "execution_count": 19,
   "metadata": {},
   "outputs": [
    {
     "output_type": "stream",
     "name": "stdout",
     "text": [
      "            Adj. Close    HL_PCT  PCT_change  Adj. Volume\nDate                                                     \n2004-08-19   50.322842  3.712563    0.324968   44659000.0\n2004-08-20   54.322689  0.710922    7.227007   22834300.0\n2004-08-23   54.869377  3.729433   -1.227880   18256100.0\n2004-08-24   52.597363  6.417469   -5.726357   15247300.0\n2004-08-25   53.164113  1.886792    1.183658    9188600.0\n"
     ]
    }
   ],
   "source": [
    "df = df[['Adj. Close','HL_PCT','PCT_change','Adj. Volume']]\n",
    "print(df.head())"
   ]
  },
  {
   "cell_type": "code",
   "execution_count": 20,
   "metadata": {},
   "outputs": [],
   "source": [
    "# Features are attributes that Predict The Labels"
   ]
  },
  {
   "source": [
    "## Video 3: Regression Features and Labels - Practical Machine Learning Tutorial with Python"
   ],
   "cell_type": "markdown",
   "metadata": {}
  },
  {
   "cell_type": "code",
   "execution_count": 21,
   "metadata": {},
   "outputs": [],
   "source": [
    "forecast_col = 'Adj. Close' # Whatever we want in the future\n",
    "df.fillna(-99999,inplace = True) # Because we can't work with NaN data\n",
    "# If we miss some values in the column, we shouldn't need to remove the entire column, rather we'll have some outliers like this\n"
   ]
  },
  {
   "cell_type": "code",
   "execution_count": 28,
   "metadata": {},
   "outputs": [],
   "source": [
    "import math\n",
    "forecast_out = int(math.ceil(0.01*len(df))) # taking out 10% of the dataframe"
   ]
  },
  {
   "cell_type": "code",
   "execution_count": 29,
   "metadata": {},
   "outputs": [],
   "source": [
    "df['label'] = df[forecast_col].shift(-forecast_out) # SEE THE FIRST COMMENT ON THE VIDEO"
   ]
  },
  {
   "cell_type": "code",
   "execution_count": 30,
   "metadata": {},
   "outputs": [
    {
     "output_type": "stream",
     "name": "stdout",
     "text": [
      "            Adj. Close    HL_PCT  PCT_change  Adj. Volume      label\nDate                                                                \n2004-08-19   50.322842  3.712563    0.324968   44659000.0  67.739104\n2004-08-20   54.322689  0.710922    7.227007   22834300.0  69.399229\n2004-08-23   54.869377  3.729433   -1.227880   18256100.0  68.752232\n2004-08-24   52.597363  6.417469   -5.726357   15247300.0  69.639972\n2004-08-25   53.164113  1.886792    1.183658    9188600.0  69.078238\n            Adj. Close    HL_PCT  PCT_change  Adj. Volume   label\nDate                                                             \n2016-09-22      815.95  0.381151    0.734568    1759290.0  781.10\n2016-09-23      814.96  0.250319   -0.022082    1411673.0  802.03\n2016-09-26      802.65  0.925684   -0.885382    1472732.0  811.98\n2016-09-27      810.73  0.340434    1.109961    1367271.0  805.59\n2016-09-28      810.06  0.023455    0.743707    1470280.0  780.29\n"
     ]
    }
   ],
   "source": [
    "df.dropna(inplace=True)\n",
    "print(df.head())\n",
    "print(df.tail())"
   ]
  },
  {
   "cell_type": "code",
   "execution_count": null,
   "metadata": {},
   "outputs": [],
   "source": []
  }
 ]
}